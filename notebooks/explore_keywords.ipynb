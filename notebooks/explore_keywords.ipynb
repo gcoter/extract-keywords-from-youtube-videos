{
 "cells": [
  {
   "cell_type": "code",
   "execution_count": 9,
   "metadata": {},
   "outputs": [],
   "source": [
    "import os\n",
    "import json\n",
    "import pandas as pd\n",
    "from collections import Counter"
   ]
  },
  {
   "cell_type": "code",
   "execution_count": 5,
   "metadata": {},
   "outputs": [],
   "source": [
    "keywords_folder_path = \"../data/keywords/\""
   ]
  },
  {
   "cell_type": "code",
   "execution_count": 6,
   "metadata": {},
   "outputs": [],
   "source": [
    "all_keyword_jsons = []\n",
    "\n",
    "for file_name in os.listdir(keywords_folder_path):\n",
    "    with open(keywords_folder_path + file_name, \"r\") as f:\n",
    "        keywords_json = json.load(f)\n",
    "    all_keyword_jsons.append(keywords_json)"
   ]
  },
  {
   "cell_type": "code",
   "execution_count": 7,
   "metadata": {},
   "outputs": [],
   "source": [
    "df = pd.DataFrame(all_keyword_jsons)"
   ]
  },
  {
   "cell_type": "code",
   "execution_count": 8,
   "metadata": {},
   "outputs": [
    {
     "data": {
      "text/html": [
       "<div>\n",
       "<style scoped>\n",
       "    .dataframe tbody tr th:only-of-type {\n",
       "        vertical-align: middle;\n",
       "    }\n",
       "\n",
       "    .dataframe tbody tr th {\n",
       "        vertical-align: top;\n",
       "    }\n",
       "\n",
       "    .dataframe thead th {\n",
       "        text-align: right;\n",
       "    }\n",
       "</style>\n",
       "<table border=\"1\" class=\"dataframe\">\n",
       "  <thead>\n",
       "    <tr style=\"text-align: right;\">\n",
       "      <th></th>\n",
       "      <th>title</th>\n",
       "      <th>keywords</th>\n",
       "    </tr>\n",
       "  </thead>\n",
       "  <tbody>\n",
       "    <tr>\n",
       "      <th>0</th>\n",
       "      <td>Où va la Data Science ?</td>\n",
       "      <td>[Data Science, Machine Learning Engineer, DevO...</td>\n",
       "    </tr>\n",
       "    <tr>\n",
       "      <th>1</th>\n",
       "      <td>Le long parcours d'un cas d'usage applicatif e...</td>\n",
       "      <td>[ISEO, data analysis, entity recognition, clas...</td>\n",
       "    </tr>\n",
       "    <tr>\n",
       "      <th>2</th>\n",
       "      <td>Techniques pour améliorer son éligibilité pour...</td>\n",
       "      <td>[data, visibility, technical skills, self-asse...</td>\n",
       "    </tr>\n",
       "  </tbody>\n",
       "</table>\n",
       "</div>"
      ],
      "text/plain": [
       "                                               title   \n",
       "0                            Où va la Data Science ?  \\\n",
       "1  Le long parcours d'un cas d'usage applicatif e...   \n",
       "2  Techniques pour améliorer son éligibilité pour...   \n",
       "\n",
       "                                            keywords  \n",
       "0  [Data Science, Machine Learning Engineer, DevO...  \n",
       "1  [ISEO, data analysis, entity recognition, clas...  \n",
       "2  [data, visibility, technical skills, self-asse...  "
      ]
     },
     "execution_count": 8,
     "metadata": {},
     "output_type": "execute_result"
    }
   ],
   "source": [
    "df"
   ]
  },
  {
   "cell_type": "code",
   "execution_count": 16,
   "metadata": {},
   "outputs": [],
   "source": [
    "keyword_counts = Counter(keyword.lower() for keywords in df['keywords'] for keyword in keywords)"
   ]
  },
  {
   "cell_type": "code",
   "execution_count": 17,
   "metadata": {},
   "outputs": [
    {
     "data": {
      "text/plain": [
       "Counter({'data science': 1,\n",
       "         'machine learning engineer': 1,\n",
       "         'devops': 1,\n",
       "         'data engineer': 1,\n",
       "         'data analysis': 2,\n",
       "         'business expertise': 1,\n",
       "         'cicd': 1,\n",
       "         'job market': 1,\n",
       "         'new technologies': 1,\n",
       "         'mle': 1,\n",
       "         'iseo': 1,\n",
       "         'entity recognition': 1,\n",
       "         'classification': 1,\n",
       "         'data aggregation': 1,\n",
       "         'amazon': 1,\n",
       "         'consumer opinions': 1,\n",
       "         'sentiments': 1,\n",
       "         'project': 1,\n",
       "         'happy': 1,\n",
       "         'data': 1,\n",
       "         'visibility': 1,\n",
       "         'technical skills': 1,\n",
       "         'self-assessment': 1,\n",
       "         'professional personality': 1,\n",
       "         'learning': 1,\n",
       "         'linkedin': 1,\n",
       "         'networking': 1,\n",
       "         'market': 1,\n",
       "         'salary negotiation': 1})"
      ]
     },
     "execution_count": 17,
     "metadata": {},
     "output_type": "execute_result"
    }
   ],
   "source": [
    "keyword_counts"
   ]
  },
  {
   "cell_type": "code",
   "execution_count": null,
   "metadata": {},
   "outputs": [],
   "source": []
  }
 ],
 "metadata": {
  "kernelspec": {
   "display_name": "Python 3",
   "language": "python",
   "name": "python3"
  },
  "language_info": {
   "codemirror_mode": {
    "name": "ipython",
    "version": 3
   },
   "file_extension": ".py",
   "mimetype": "text/x-python",
   "name": "python",
   "nbconvert_exporter": "python",
   "pygments_lexer": "ipython3",
   "version": "3.8.10"
  },
  "orig_nbformat": 4
 },
 "nbformat": 4,
 "nbformat_minor": 2
}
